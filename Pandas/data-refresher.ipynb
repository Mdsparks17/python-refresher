{
 "cells": [
  {
   "cell_type": "markdown",
   "metadata": {},
   "source": [
    "<h1>Working with my Bar Spreadsheet!<h1>"
   ]
  },
  {
   "cell_type": "markdown",
   "metadata": {},
   "source": [
    "<h3>Problem: \"I want a good whiskey cocktail thats sweet\"</h3>"
   ]
  },
  {
   "cell_type": "code",
   "execution_count": 39,
   "metadata": {},
   "outputs": [
    {
     "data": {
      "text/html": [
       "<div>\n",
       "<style scoped>\n",
       "    .dataframe tbody tr th:only-of-type {\n",
       "        vertical-align: middle;\n",
       "    }\n",
       "\n",
       "    .dataframe tbody tr th {\n",
       "        vertical-align: top;\n",
       "    }\n",
       "\n",
       "    .dataframe thead th {\n",
       "        text-align: right;\n",
       "    }\n",
       "</style>\n",
       "<table border=\"1\" class=\"dataframe\">\n",
       "  <thead>\n",
       "    <tr style=\"text-align: right;\">\n",
       "      <th></th>\n",
       "      <th>Cocktail</th>\n",
       "      <th>Base</th>\n",
       "      <th>Rating</th>\n",
       "      <th>Ingredients</th>\n",
       "      <th>Recipe</th>\n",
       "    </tr>\n",
       "  </thead>\n",
       "  <tbody>\n",
       "    <tr>\n",
       "      <th>0</th>\n",
       "      <td>Whiskey Sour</td>\n",
       "      <td>Whiskey</td>\n",
       "      <td>10.0</td>\n",
       "      <td>Bourbon Whiskey,Lemon Juice,Sugar</td>\n",
       "      <td>Link</td>\n",
       "    </tr>\n",
       "    <tr>\n",
       "      <th>6</th>\n",
       "      <td>Old Fashion</td>\n",
       "      <td>Whiskey</td>\n",
       "      <td>8.0</td>\n",
       "      <td>Bourbon Whiskey,Bitters,Oranges,Sugar</td>\n",
       "      <td>Link</td>\n",
       "    </tr>\n",
       "  </tbody>\n",
       "</table>\n",
       "</div>"
      ],
      "text/plain": [
       "       Cocktail     Base  Rating                            Ingredients Recipe\n",
       "0  Whiskey Sour  Whiskey    10.0      Bourbon Whiskey,Lemon Juice,Sugar   Link\n",
       "6   Old Fashion  Whiskey     8.0  Bourbon Whiskey,Bitters,Oranges,Sugar   Link"
      ]
     },
     "execution_count": 39,
     "metadata": {},
     "output_type": "execute_result"
    }
   ],
   "source": [
    "# Only using pandas\n",
    "import pandas as pd\n",
    "\n",
    "bar = pd.read_excel('./bar-spreadsheet.xlsx')\n",
    "\n",
    "filtered_bar = bar[\n",
    "    (bar['Ingredients'].str.contains('Whiskey')) & \n",
    "    (bar['Ingredients'].str.contains('Sugar')) & \n",
    "    (bar[\"Rating\"] > 5)\n",
    "    ]\n",
    "\n",
    "filtered_bar.head()"
   ]
  },
  {
   "cell_type": "code",
   "execution_count": 46,
   "metadata": {},
   "outputs": [],
   "source": [
    "# Pandas with NumPy\n",
    "import pandas as pd\n",
    "import numpy as np\n",
    "\n",
    "bar = pd.read_excel('./bar-spreadsheet.xlsx')\n",
    "\n",
    "ingredients = bar['Ingredients'].values\n",
    "ratings = bar['Rating'].values\n",
    "\n",
    "# # Boolean arrays based on conditions\n",
    "# contains_whiskey = np.char.find(ingredients, 'whisky') != -1\n",
    "# contains_syrup = np.char.find(ingredients, 'syrup') != -1\n",
    "# high_ratings = ratings > 5\n",
    "\n",
    "# final_filter = contains_whiskey & contains_syrup & high_ratings\n",
    "\n",
    "# filtered_bar = bar[final_filter]\n",
    "\n",
    "# filtered_bar.head()\n",
    "\n"
   ]
  },
  {
   "cell_type": "markdown",
   "metadata": {},
   "source": [
    "<h1>Some NumPy Excersizes</h1>\n"
   ]
  },
  {
   "cell_type": "code",
   "execution_count": 63,
   "metadata": {},
   "outputs": [
    {
     "name": "stdout",
     "output_type": "stream",
     "text": [
      "[0. 0. 0. 0. 0.]\n",
      "['Pokemon: RED' 'Pokemon: BLUE' 'Pokemon: YELLOW']\n"
     ]
    }
   ],
   "source": [
    "import numpy as np\n",
    "\n",
    "# Create an array of 0's\n",
    "myZeros = np.zeros(5)\n",
    "print(myZeros)\n",
    "\n",
    "myArray = np.array([\"red\", \"blue\", \"yellow\"])\n",
    "myArray = \"Pokemon: \" + np.char.upper(myArray)\n",
    "print(myArray)"
   ]
  }
 ],
 "metadata": {
  "kernelspec": {
   "display_name": "Python 3",
   "language": "python",
   "name": "python3"
  },
  "language_info": {
   "codemirror_mode": {
    "name": "ipython",
    "version": 3
   },
   "file_extension": ".py",
   "mimetype": "text/x-python",
   "name": "python",
   "nbconvert_exporter": "python",
   "pygments_lexer": "ipython3",
   "version": "3.11.9"
  }
 },
 "nbformat": 4,
 "nbformat_minor": 2
}
